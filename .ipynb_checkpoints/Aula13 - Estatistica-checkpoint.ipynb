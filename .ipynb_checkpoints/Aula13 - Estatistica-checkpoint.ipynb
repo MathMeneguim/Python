{
 "cells": [
  {
   "cell_type": "markdown",
   "id": "fbee8f1e",
   "metadata": {},
   "source": [
    "# AULA 13 - ESTATISTICA\n",
    "\n",
    "## titulo 2\n",
    "### titulo3\n",
    "\n",
    "markdown negrito **sarve**\n",
    "\n",
    "- item 1\n",
    "- item 2\n",
    "- item 3\n",
    "ps: eh possivel colocar imagens (interface grafica)\n",
    "\n",
    "markdown: util comentario\n",
    "\n",
    "Test HTML injection<font color=\"red\"> TESTE 2</font>\n",
    "\n",
    "$Italico E_c = \\frac{1}{2}mv^2$\n",
    "\n",
    "ex. 2 e 4 \n",
    "\n",
    "modelo = formulas matematicas\n",
    "\n",
    "I.A aplicacoes: pre-processamento dados, metrica desempenho, interno algoritmos\n",
    "\n"
   ]
  },
  {
   "cell_type": "code",
   "execution_count": 1,
   "id": "623ea1ce",
   "metadata": {},
   "outputs": [
    {
     "name": "stdout",
     "output_type": "stream",
     "text": [
      "hello world\n"
     ]
    }
   ],
   "source": [
    "print(\"hello world\")"
   ]
  },
  {
   "cell_type": "code",
   "execution_count": 3,
   "id": "c6d61dd3",
   "metadata": {},
   "outputs": [
    {
     "name": "stdout",
     "output_type": "stream",
     "text": [
      "0 hello world\n",
      "1 hello world\n",
      "2 hello world\n",
      "3 hello world\n",
      "4 hello world\n",
      "5 hello world\n",
      "6 hello world\n",
      "7 hello world\n",
      "8 hello world\n",
      "9 hello world\n",
      "10 hello world\n"
     ]
    }
   ],
   "source": [
    "for i in range(0,11):\n",
    "    print(i, \"hello world\")"
   ]
  }
 ],
 "metadata": {
  "kernelspec": {
   "display_name": "Python 3 (ipykernel)",
   "language": "python",
   "name": "python3"
  },
  "language_info": {
   "codemirror_mode": {
    "name": "ipython",
    "version": 3
   },
   "file_extension": ".py",
   "mimetype": "text/x-python",
   "name": "python",
   "nbconvert_exporter": "python",
   "pygments_lexer": "ipython3",
   "version": "3.8.10"
  }
 },
 "nbformat": 4,
 "nbformat_minor": 5
}
