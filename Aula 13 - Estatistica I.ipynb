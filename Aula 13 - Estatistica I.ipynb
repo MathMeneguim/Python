{
 "cells": [
  {
   "cell_type": "markdown",
   "id": "c04306a5",
   "metadata": {},
   "source": [
    "Media aritmetica\n",
    "\n",
    "Media geometrica\n",
    "\n",
    "// Armonica\n",
    "\n",
    "// Ponderada\n",
    "\n",
    "// aritmetica > geometrica > harmonica\n",
    "\n"
   ]
  },
  {
   "cell_type": "code",
   "execution_count": 48,
   "id": "33bc48a7",
   "metadata": {},
   "outputs": [],
   "source": [
    "x = [39, 38, 27, 22, 20, 17, 10, 10, 10, 10, 7, 7, 7, 7, 6]"
   ]
  },
  {
   "cell_type": "code",
   "execution_count": 43,
   "id": "eaa55fcd",
   "metadata": {},
   "outputs": [],
   "source": [
    "def media_aritmetica(x):\n",
    "    N = len(x)\n",
    "    soma = 0\n",
    "    for xi in x:\n",
    "        soma = soma+xi\n",
    "    media = soma/N\n",
    "    return(media)\n",
    "    "
   ]
  },
  {
   "cell_type": "code",
   "execution_count": 44,
   "id": "7cfac79b",
   "metadata": {},
   "outputs": [
    {
     "data": {
      "text/plain": [
       "15.8"
      ]
     },
     "execution_count": 44,
     "metadata": {},
     "output_type": "execute_result"
    }
   ],
   "source": [
    "media_aritmetica(x)"
   ]
  },
  {
   "cell_type": "code",
   "execution_count": 45,
   "id": "df05b022",
   "metadata": {},
   "outputs": [],
   "source": [
    "def media_geometrica(x):\n",
    "    \n",
    "    N = len(x)\n",
    "    mult = 1\n",
    "    for xi in x:\n",
    "        mult = mult * xi\n",
    "    media = mult ** (1/N)\n",
    "    return media"
   ]
  },
  {
   "cell_type": "code",
   "execution_count": 46,
   "id": "cb472404",
   "metadata": {
    "scrolled": true
   },
   "outputs": [
    {
     "data": {
      "text/plain": [
       "12.85218983525253"
      ]
     },
     "execution_count": 46,
     "metadata": {},
     "output_type": "execute_result"
    }
   ],
   "source": [
    "media_geometrica(x)"
   ]
  },
  {
   "cell_type": "code",
   "execution_count": 49,
   "id": "e19dfbd2",
   "metadata": {},
   "outputs": [],
   "source": [
    "def media_harmonica(x):\n",
    "    N = len(x)\n",
    "    soma = 0\n",
    "    for xi in x:\n",
    "        soma = soma+(1/xi)\n",
    "    media = N/soma \n",
    "    return(media)\n",
    "    \n",
    "    "
   ]
  },
  {
   "cell_type": "code",
   "execution_count": 50,
   "id": "095ae21b",
   "metadata": {},
   "outputs": [
    {
     "data": {
      "text/plain": [
       "10.858807403873502"
      ]
     },
     "execution_count": 50,
     "metadata": {},
     "output_type": "execute_result"
    }
   ],
   "source": [
    "media_harmonica(x)"
   ]
  },
  {
   "cell_type": "markdown",
   "id": "fa19a78b",
   "metadata": {},
   "source": [
    "# EXERCICIO 2\n"
   ]
  },
  {
   "cell_type": "code",
   "execution_count": 87,
   "id": "6eb3815c",
   "metadata": {},
   "outputs": [],
   "source": [
    "#entradas:\n",
    "x =[39, 38, 27, 22, 20, 17, 10, 10, 10, 10, 7, 7, 7, 7, 6]\n",
    "w=[13, 88, 58, 65, 71, 46, 36, 33, 37, 40, 24, 21, 20, 15, 20]\n"
   ]
  },
  {
   "cell_type": "code",
   "execution_count": 88,
   "id": "c786c41d",
   "metadata": {},
   "outputs": [],
   "source": [
    "def media_ponderada(x, w):\n",
    "    if len(x) == len(w):\n",
    "       for i in range(0, len(x)):\n",
    "            soma_wx = soma_wx + x[i]*w[i]\n",
    "            \n",
    "            soma_w = soma_w + w[i]\n",
    "\n",
    "            media= soma_wx/soma_w\n",
    "        \n",
    "    else:\n",
    "        print(\"deu ruim\")\n",
    "        \n",
    "    return media"
   ]
  },
  {
   "cell_type": "code",
   "execution_count": 89,
   "id": "b82694f3",
   "metadata": {},
   "outputs": [
    {
     "ename": "UnboundLocalError",
     "evalue": "local variable 'soma_wx' referenced before assignment",
     "output_type": "error",
     "traceback": [
      "\u001b[0;31m---------------------------------------------------------------------------\u001b[0m",
      "\u001b[0;31mUnboundLocalError\u001b[0m                         Traceback (most recent call last)",
      "\u001b[0;32m/tmp/ipykernel_10762/696789801.py\u001b[0m in \u001b[0;36m<module>\u001b[0;34m\u001b[0m\n\u001b[0;32m----> 1\u001b[0;31m \u001b[0mmedia_ponderada\u001b[0m\u001b[0;34m(\u001b[0m\u001b[0mx\u001b[0m\u001b[0;34m,\u001b[0m \u001b[0mw\u001b[0m\u001b[0;34m)\u001b[0m\u001b[0;34m\u001b[0m\u001b[0;34m\u001b[0m\u001b[0m\n\u001b[0m",
      "\u001b[0;32m/tmp/ipykernel_10762/1716964812.py\u001b[0m in \u001b[0;36mmedia_ponderada\u001b[0;34m(x, w)\u001b[0m\n\u001b[1;32m      2\u001b[0m     \u001b[0;32mif\u001b[0m \u001b[0mlen\u001b[0m\u001b[0;34m(\u001b[0m\u001b[0mx\u001b[0m\u001b[0;34m)\u001b[0m \u001b[0;34m==\u001b[0m \u001b[0mlen\u001b[0m\u001b[0;34m(\u001b[0m\u001b[0mw\u001b[0m\u001b[0;34m)\u001b[0m\u001b[0;34m:\u001b[0m\u001b[0;34m\u001b[0m\u001b[0;34m\u001b[0m\u001b[0m\n\u001b[1;32m      3\u001b[0m        \u001b[0;32mfor\u001b[0m \u001b[0mi\u001b[0m \u001b[0;32min\u001b[0m \u001b[0mrange\u001b[0m\u001b[0;34m(\u001b[0m\u001b[0;36m0\u001b[0m\u001b[0;34m,\u001b[0m \u001b[0mlen\u001b[0m\u001b[0;34m(\u001b[0m\u001b[0mx\u001b[0m\u001b[0;34m)\u001b[0m\u001b[0;34m)\u001b[0m\u001b[0;34m:\u001b[0m\u001b[0;34m\u001b[0m\u001b[0;34m\u001b[0m\u001b[0m\n\u001b[0;32m----> 4\u001b[0;31m             \u001b[0msoma_wx\u001b[0m \u001b[0;34m=\u001b[0m \u001b[0msoma_wx\u001b[0m \u001b[0;34m+\u001b[0m \u001b[0mx\u001b[0m\u001b[0;34m[\u001b[0m\u001b[0mi\u001b[0m\u001b[0;34m]\u001b[0m\u001b[0;34m*\u001b[0m\u001b[0mw\u001b[0m\u001b[0;34m[\u001b[0m\u001b[0mi\u001b[0m\u001b[0;34m]\u001b[0m\u001b[0;34m\u001b[0m\u001b[0;34m\u001b[0m\u001b[0m\n\u001b[0m\u001b[1;32m      5\u001b[0m \u001b[0;34m\u001b[0m\u001b[0m\n\u001b[1;32m      6\u001b[0m             \u001b[0msoma_w\u001b[0m \u001b[0;34m=\u001b[0m \u001b[0msoma_w\u001b[0m \u001b[0;34m+\u001b[0m \u001b[0mw\u001b[0m\u001b[0;34m[\u001b[0m\u001b[0mi\u001b[0m\u001b[0;34m]\u001b[0m\u001b[0;34m\u001b[0m\u001b[0;34m\u001b[0m\u001b[0m\n",
      "\u001b[0;31mUnboundLocalError\u001b[0m: local variable 'soma_wx' referenced before assignment"
     ]
    }
   ],
   "source": [
    "media_ponderada(x, w)"
   ]
  },
  {
   "cell_type": "code",
   "execution_count": null,
   "id": "74c8c4fe",
   "metadata": {},
   "outputs": [],
   "source": [
    "media_ponderada(x, w)"
   ]
  },
  {
   "cell_type": "code",
   "execution_count": null,
   "id": "de46baf3",
   "metadata": {},
   "outputs": [],
   "source": []
  },
  {
   "cell_type": "code",
   "execution_count": null,
   "id": "897c96c2",
   "metadata": {},
   "outputs": [],
   "source": []
  },
  {
   "cell_type": "code",
   "execution_count": null,
   "id": "ce419e33",
   "metadata": {},
   "outputs": [],
   "source": [
    "# exercicio 3 - moda e mediana"
   ]
  },
  {
   "cell_type": "code",
   "execution_count": 92,
   "id": "15d788e8",
   "metadata": {},
   "outputs": [],
   "source": [
    "x=[9, 38, 27, 22, 20, 17, 10, 10, 10, 10, 7, 7, 7, 7, 6]"
   ]
  },
  {
   "cell_type": "code",
   "execution_count": 93,
   "id": "32c0ccd7",
   "metadata": {},
   "outputs": [],
   "source": [
    "def moda(x):\n",
    "    \n",
    "    x.count()\n",
    "    \n",
    "    \n",
    "        "
   ]
  },
  {
   "cell_type": "code",
   "execution_count": 94,
   "id": "058f0a7a",
   "metadata": {},
   "outputs": [
    {
     "name": "stdout",
     "output_type": "stream",
     "text": [
      "[9, 38, 27, 22, 20, 17, 10, 10, 10, 10, 7, 7, 7, 7, 6]\n"
     ]
    }
   ],
   "source": [
    "print(x)"
   ]
  },
  {
   "cell_type": "code",
   "execution_count": null,
   "id": "41cbadd6",
   "metadata": {},
   "outputs": [],
   "source": []
  }
 ],
 "metadata": {
  "kernelspec": {
   "display_name": "Python 3 (ipykernel)",
   "language": "python",
   "name": "python3"
  },
  "language_info": {
   "codemirror_mode": {
    "name": "ipython",
    "version": 3
   },
   "file_extension": ".py",
   "mimetype": "text/x-python",
   "name": "python",
   "nbconvert_exporter": "python",
   "pygments_lexer": "ipython3",
   "version": "3.8.10"
  }
 },
 "nbformat": 4,
 "nbformat_minor": 5
}
